{
 "cells": [
  {
   "cell_type": "markdown",
   "metadata": {},
   "source": [
    "# Creating a Streamplot"
   ]
  },
  {
   "cell_type": "markdown",
   "metadata": {},
   "source": [
    "## Load packages"
   ]
  },
  {
   "cell_type": "code",
   "execution_count": 1,
   "metadata": {},
   "outputs": [],
   "source": [
    "import numpy as np\n",
    "import pandas as pd\n",
    "import matplotlib.pyplot as plt"
   ]
  },
  {
   "cell_type": "markdown",
   "metadata": {},
   "source": [
    "## Load data"
   ]
  },
  {
   "cell_type": "markdown",
   "metadata": {},
   "source": [
    "Basic CSV import. Pre-loading, the data table should be periods as rows, countries as columns."
   ]
  },
  {
   "cell_type": "code",
   "execution_count": 2,
   "metadata": {},
   "outputs": [
    {
     "data": {
      "text/html": [
       "<div>\n",
       "<style scoped>\n",
       "    .dataframe tbody tr th:only-of-type {\n",
       "        vertical-align: middle;\n",
       "    }\n",
       "\n",
       "    .dataframe tbody tr th {\n",
       "        vertical-align: top;\n",
       "    }\n",
       "\n",
       "    .dataframe thead th {\n",
       "        text-align: right;\n",
       "    }\n",
       "</style>\n",
       "<table border=\"1\" class=\"dataframe\">\n",
       "  <thead>\n",
       "    <tr style=\"text-align: right;\">\n",
       "      <th></th>\n",
       "      <th>Period</th>\n",
       "      <th>Botswana</th>\n",
       "      <th>Burundi</th>\n",
       "      <th>Cote D'Ivoire</th>\n",
       "      <th>Kenya</th>\n",
       "      <th>Lesotho</th>\n",
       "      <th>Malawi</th>\n",
       "      <th>Mozambique</th>\n",
       "      <th>Namibia</th>\n",
       "      <th>Nigeria</th>\n",
       "      <th>Tanzania</th>\n",
       "      <th>West Africa Region</th>\n",
       "      <th>Zambia</th>\n",
       "    </tr>\n",
       "  </thead>\n",
       "  <tbody>\n",
       "    <tr>\n",
       "      <th>0</th>\n",
       "      <td>4/29/2017</td>\n",
       "      <td>NaN</td>\n",
       "      <td>NaN</td>\n",
       "      <td>NaN</td>\n",
       "      <td>322.0</td>\n",
       "      <td>NaN</td>\n",
       "      <td>NaN</td>\n",
       "      <td>NaN</td>\n",
       "      <td>NaN</td>\n",
       "      <td>NaN</td>\n",
       "      <td>NaN</td>\n",
       "      <td>NaN</td>\n",
       "      <td>NaN</td>\n",
       "    </tr>\n",
       "    <tr>\n",
       "      <th>1</th>\n",
       "      <td>7/28/2017</td>\n",
       "      <td>NaN</td>\n",
       "      <td>NaN</td>\n",
       "      <td>NaN</td>\n",
       "      <td>3102.0</td>\n",
       "      <td>NaN</td>\n",
       "      <td>NaN</td>\n",
       "      <td>NaN</td>\n",
       "      <td>NaN</td>\n",
       "      <td>NaN</td>\n",
       "      <td>NaN</td>\n",
       "      <td>NaN</td>\n",
       "      <td>NaN</td>\n",
       "    </tr>\n",
       "    <tr>\n",
       "      <th>2</th>\n",
       "      <td>10/26/2017</td>\n",
       "      <td>NaN</td>\n",
       "      <td>NaN</td>\n",
       "      <td>NaN</td>\n",
       "      <td>4462.0</td>\n",
       "      <td>NaN</td>\n",
       "      <td>NaN</td>\n",
       "      <td>NaN</td>\n",
       "      <td>NaN</td>\n",
       "      <td>NaN</td>\n",
       "      <td>NaN</td>\n",
       "      <td>NaN</td>\n",
       "      <td>NaN</td>\n",
       "    </tr>\n",
       "    <tr>\n",
       "      <th>3</th>\n",
       "      <td>1/24/2018</td>\n",
       "      <td>NaN</td>\n",
       "      <td>NaN</td>\n",
       "      <td>NaN</td>\n",
       "      <td>6852.0</td>\n",
       "      <td>9.0</td>\n",
       "      <td>NaN</td>\n",
       "      <td>NaN</td>\n",
       "      <td>76.0</td>\n",
       "      <td>NaN</td>\n",
       "      <td>NaN</td>\n",
       "      <td>NaN</td>\n",
       "      <td>NaN</td>\n",
       "    </tr>\n",
       "    <tr>\n",
       "      <th>4</th>\n",
       "      <td>4/24/2018</td>\n",
       "      <td>NaN</td>\n",
       "      <td>NaN</td>\n",
       "      <td>NaN</td>\n",
       "      <td>6529.0</td>\n",
       "      <td>410.0</td>\n",
       "      <td>NaN</td>\n",
       "      <td>NaN</td>\n",
       "      <td>87.0</td>\n",
       "      <td>NaN</td>\n",
       "      <td>NaN</td>\n",
       "      <td>NaN</td>\n",
       "      <td>NaN</td>\n",
       "    </tr>\n",
       "  </tbody>\n",
       "</table>\n",
       "</div>"
      ],
      "text/plain": [
       "       Period  Botswana  Burundi  Cote D'Ivoire   Kenya  Lesotho  Malawi  \\\n",
       "0   4/29/2017       NaN      NaN            NaN   322.0      NaN     NaN   \n",
       "1   7/28/2017       NaN      NaN            NaN  3102.0      NaN     NaN   \n",
       "2  10/26/2017       NaN      NaN            NaN  4462.0      NaN     NaN   \n",
       "3   1/24/2018       NaN      NaN            NaN  6852.0      9.0     NaN   \n",
       "4   4/24/2018       NaN      NaN            NaN  6529.0    410.0     NaN   \n",
       "\n",
       "   Mozambique  Namibia  Nigeria  Tanzania  West Africa Region  Zambia  \n",
       "0         NaN      NaN      NaN       NaN                 NaN     NaN  \n",
       "1         NaN      NaN      NaN       NaN                 NaN     NaN  \n",
       "2         NaN      NaN      NaN       NaN                 NaN     NaN  \n",
       "3         NaN     76.0      NaN       NaN                 NaN     NaN  \n",
       "4         NaN     87.0      NaN       NaN                 NaN     NaN  "
      ]
     },
     "execution_count": 2,
     "metadata": {},
     "output_type": "execute_result"
    }
   ],
   "source": [
    "prep = pd.read_csv('data/PrEP_2023.csv')\n",
    "prep.head()"
   ]
  },
  {
   "cell_type": "markdown",
   "metadata": {},
   "source": [
    "## Transform"
   ]
  },
  {
   "cell_type": "markdown",
   "metadata": {},
   "source": [
    "Fix the `NaN`s (blank cells) to zeroes"
   ]
  },
  {
   "cell_type": "code",
   "execution_count": 3,
   "metadata": {},
   "outputs": [],
   "source": [
    "prep = prep.fillna(0)"
   ]
  },
  {
   "cell_type": "markdown",
   "metadata": {},
   "source": [
    "Make sure the Period column is a `datetime` type, and set as the index."
   ]
  },
  {
   "cell_type": "code",
   "execution_count": 4,
   "metadata": {},
   "outputs": [
    {
     "data": {
      "text/html": [
       "<div>\n",
       "<style scoped>\n",
       "    .dataframe tbody tr th:only-of-type {\n",
       "        vertical-align: middle;\n",
       "    }\n",
       "\n",
       "    .dataframe tbody tr th {\n",
       "        vertical-align: top;\n",
       "    }\n",
       "\n",
       "    .dataframe thead th {\n",
       "        text-align: right;\n",
       "    }\n",
       "</style>\n",
       "<table border=\"1\" class=\"dataframe\">\n",
       "  <thead>\n",
       "    <tr style=\"text-align: right;\">\n",
       "      <th></th>\n",
       "      <th>Botswana</th>\n",
       "      <th>Burundi</th>\n",
       "      <th>Cote D'Ivoire</th>\n",
       "      <th>Kenya</th>\n",
       "      <th>Lesotho</th>\n",
       "      <th>Malawi</th>\n",
       "      <th>Mozambique</th>\n",
       "      <th>Namibia</th>\n",
       "      <th>Nigeria</th>\n",
       "      <th>Tanzania</th>\n",
       "      <th>West Africa Region</th>\n",
       "      <th>Zambia</th>\n",
       "    </tr>\n",
       "    <tr>\n",
       "      <th>Period</th>\n",
       "      <th></th>\n",
       "      <th></th>\n",
       "      <th></th>\n",
       "      <th></th>\n",
       "      <th></th>\n",
       "      <th></th>\n",
       "      <th></th>\n",
       "      <th></th>\n",
       "      <th></th>\n",
       "      <th></th>\n",
       "      <th></th>\n",
       "      <th></th>\n",
       "    </tr>\n",
       "  </thead>\n",
       "  <tbody>\n",
       "    <tr>\n",
       "      <th>2017-04-29</th>\n",
       "      <td>0.0</td>\n",
       "      <td>0.0</td>\n",
       "      <td>0.0</td>\n",
       "      <td>322.0</td>\n",
       "      <td>0.0</td>\n",
       "      <td>0.0</td>\n",
       "      <td>0.0</td>\n",
       "      <td>0.0</td>\n",
       "      <td>0.0</td>\n",
       "      <td>0.0</td>\n",
       "      <td>0.0</td>\n",
       "      <td>0.0</td>\n",
       "    </tr>\n",
       "    <tr>\n",
       "      <th>2017-07-28</th>\n",
       "      <td>0.0</td>\n",
       "      <td>0.0</td>\n",
       "      <td>0.0</td>\n",
       "      <td>3102.0</td>\n",
       "      <td>0.0</td>\n",
       "      <td>0.0</td>\n",
       "      <td>0.0</td>\n",
       "      <td>0.0</td>\n",
       "      <td>0.0</td>\n",
       "      <td>0.0</td>\n",
       "      <td>0.0</td>\n",
       "      <td>0.0</td>\n",
       "    </tr>\n",
       "    <tr>\n",
       "      <th>2017-10-26</th>\n",
       "      <td>0.0</td>\n",
       "      <td>0.0</td>\n",
       "      <td>0.0</td>\n",
       "      <td>4462.0</td>\n",
       "      <td>0.0</td>\n",
       "      <td>0.0</td>\n",
       "      <td>0.0</td>\n",
       "      <td>0.0</td>\n",
       "      <td>0.0</td>\n",
       "      <td>0.0</td>\n",
       "      <td>0.0</td>\n",
       "      <td>0.0</td>\n",
       "    </tr>\n",
       "    <tr>\n",
       "      <th>2018-01-24</th>\n",
       "      <td>0.0</td>\n",
       "      <td>0.0</td>\n",
       "      <td>0.0</td>\n",
       "      <td>6852.0</td>\n",
       "      <td>9.0</td>\n",
       "      <td>0.0</td>\n",
       "      <td>0.0</td>\n",
       "      <td>76.0</td>\n",
       "      <td>0.0</td>\n",
       "      <td>0.0</td>\n",
       "      <td>0.0</td>\n",
       "      <td>0.0</td>\n",
       "    </tr>\n",
       "    <tr>\n",
       "      <th>2018-04-24</th>\n",
       "      <td>0.0</td>\n",
       "      <td>0.0</td>\n",
       "      <td>0.0</td>\n",
       "      <td>6529.0</td>\n",
       "      <td>410.0</td>\n",
       "      <td>0.0</td>\n",
       "      <td>0.0</td>\n",
       "      <td>87.0</td>\n",
       "      <td>0.0</td>\n",
       "      <td>0.0</td>\n",
       "      <td>0.0</td>\n",
       "      <td>0.0</td>\n",
       "    </tr>\n",
       "  </tbody>\n",
       "</table>\n",
       "</div>"
      ],
      "text/plain": [
       "            Botswana  Burundi  Cote D'Ivoire   Kenya  Lesotho  Malawi  \\\n",
       "Period                                                                  \n",
       "2017-04-29       0.0      0.0            0.0   322.0      0.0     0.0   \n",
       "2017-07-28       0.0      0.0            0.0  3102.0      0.0     0.0   \n",
       "2017-10-26       0.0      0.0            0.0  4462.0      0.0     0.0   \n",
       "2018-01-24       0.0      0.0            0.0  6852.0      9.0     0.0   \n",
       "2018-04-24       0.0      0.0            0.0  6529.0    410.0     0.0   \n",
       "\n",
       "            Mozambique  Namibia  Nigeria  Tanzania  West Africa Region  Zambia  \n",
       "Period                                                                          \n",
       "2017-04-29         0.0      0.0      0.0       0.0                 0.0     0.0  \n",
       "2017-07-28         0.0      0.0      0.0       0.0                 0.0     0.0  \n",
       "2017-10-26         0.0      0.0      0.0       0.0                 0.0     0.0  \n",
       "2018-01-24         0.0     76.0      0.0       0.0                 0.0     0.0  \n",
       "2018-04-24         0.0     87.0      0.0       0.0                 0.0     0.0  "
      ]
     },
     "execution_count": 4,
     "metadata": {},
     "output_type": "execute_result"
    }
   ],
   "source": [
    "prep['Period'] = pd.to_datetime(prep['Period'])\n",
    "prep = prep.set_index('Period')\n",
    "prep.head()"
   ]
  },
  {
   "cell_type": "markdown",
   "metadata": {},
   "source": [
    "Make fake rows with interpolated data for the purposes of smoothing"
   ]
  },
  {
   "cell_type": "code",
   "execution_count": 5,
   "metadata": {},
   "outputs": [],
   "source": [
    "first = prep.index.min()\n",
    "last = prep.index.max()\n",
    "frequency = pd.date_range(start=first, end=last, freq='30D')"
   ]
  },
  {
   "cell_type": "code",
   "execution_count": 6,
   "metadata": {},
   "outputs": [
    {
     "data": {
      "text/html": [
       "<div>\n",
       "<style scoped>\n",
       "    .dataframe tbody tr th:only-of-type {\n",
       "        vertical-align: middle;\n",
       "    }\n",
       "\n",
       "    .dataframe tbody tr th {\n",
       "        vertical-align: top;\n",
       "    }\n",
       "\n",
       "    .dataframe thead th {\n",
       "        text-align: right;\n",
       "    }\n",
       "</style>\n",
       "<table border=\"1\" class=\"dataframe\">\n",
       "  <thead>\n",
       "    <tr style=\"text-align: right;\">\n",
       "      <th></th>\n",
       "      <th>Botswana</th>\n",
       "      <th>Burundi</th>\n",
       "      <th>Cote D'Ivoire</th>\n",
       "      <th>Kenya</th>\n",
       "      <th>Lesotho</th>\n",
       "      <th>Malawi</th>\n",
       "      <th>Mozambique</th>\n",
       "      <th>Namibia</th>\n",
       "      <th>Nigeria</th>\n",
       "      <th>Tanzania</th>\n",
       "      <th>West Africa Region</th>\n",
       "      <th>Zambia</th>\n",
       "    </tr>\n",
       "  </thead>\n",
       "  <tbody>\n",
       "    <tr>\n",
       "      <th>2017-04-29</th>\n",
       "      <td>0.000000e+00</td>\n",
       "      <td>0.000000e+00</td>\n",
       "      <td>0.000000e+00</td>\n",
       "      <td>322.000000</td>\n",
       "      <td>0.000000</td>\n",
       "      <td>0.000000e+00</td>\n",
       "      <td>0.000000e+00</td>\n",
       "      <td>0.000000</td>\n",
       "      <td>0.000000e+00</td>\n",
       "      <td>0.000000</td>\n",
       "      <td>0.000000e+00</td>\n",
       "      <td>0.000000e+00</td>\n",
       "    </tr>\n",
       "    <tr>\n",
       "      <th>2017-05-29</th>\n",
       "      <td>-5.192684e-10</td>\n",
       "      <td>-1.537552e-11</td>\n",
       "      <td>-3.976035e-16</td>\n",
       "      <td>1466.499205</td>\n",
       "      <td>-0.956755</td>\n",
       "      <td>2.538573e-10</td>\n",
       "      <td>-1.699090e-08</td>\n",
       "      <td>1.966471</td>\n",
       "      <td>-8.031048e-07</td>\n",
       "      <td>0.693682</td>\n",
       "      <td>-2.635184e-12</td>\n",
       "      <td>-4.303168e-10</td>\n",
       "    </tr>\n",
       "    <tr>\n",
       "      <th>2017-06-28</th>\n",
       "      <td>-5.192684e-10</td>\n",
       "      <td>-1.537552e-11</td>\n",
       "      <td>-3.976035e-16</td>\n",
       "      <td>2393.165871</td>\n",
       "      <td>-0.956755</td>\n",
       "      <td>2.538573e-10</td>\n",
       "      <td>-1.699090e-08</td>\n",
       "      <td>1.966471</td>\n",
       "      <td>-8.031048e-07</td>\n",
       "      <td>0.693682</td>\n",
       "      <td>-2.635184e-12</td>\n",
       "      <td>-4.303168e-10</td>\n",
       "    </tr>\n",
       "    <tr>\n",
       "      <th>2017-07-28</th>\n",
       "      <td>0.000000e+00</td>\n",
       "      <td>0.000000e+00</td>\n",
       "      <td>0.000000e+00</td>\n",
       "      <td>3102.000000</td>\n",
       "      <td>0.000000</td>\n",
       "      <td>0.000000e+00</td>\n",
       "      <td>0.000000e+00</td>\n",
       "      <td>0.000000</td>\n",
       "      <td>0.000000e+00</td>\n",
       "      <td>0.000000</td>\n",
       "      <td>0.000000e+00</td>\n",
       "      <td>0.000000e+00</td>\n",
       "    </tr>\n",
       "    <tr>\n",
       "      <th>2017-08-27</th>\n",
       "      <td>1.038537e-09</td>\n",
       "      <td>3.075103e-11</td>\n",
       "      <td>7.952070e-16</td>\n",
       "      <td>3593.001590</td>\n",
       "      <td>1.913510</td>\n",
       "      <td>-5.077147e-10</td>\n",
       "      <td>3.398180e-08</td>\n",
       "      <td>-3.932943</td>\n",
       "      <td>1.606210e-06</td>\n",
       "      <td>-1.387364</td>\n",
       "      <td>5.270367e-12</td>\n",
       "      <td>8.606337e-10</td>\n",
       "    </tr>\n",
       "  </tbody>\n",
       "</table>\n",
       "</div>"
      ],
      "text/plain": [
       "                Botswana       Burundi  Cote D'Ivoire        Kenya   Lesotho  \\\n",
       "2017-04-29  0.000000e+00  0.000000e+00   0.000000e+00   322.000000  0.000000   \n",
       "2017-05-29 -5.192684e-10 -1.537552e-11  -3.976035e-16  1466.499205 -0.956755   \n",
       "2017-06-28 -5.192684e-10 -1.537552e-11  -3.976035e-16  2393.165871 -0.956755   \n",
       "2017-07-28  0.000000e+00  0.000000e+00   0.000000e+00  3102.000000  0.000000   \n",
       "2017-08-27  1.038537e-09  3.075103e-11   7.952070e-16  3593.001590  1.913510   \n",
       "\n",
       "                  Malawi    Mozambique   Namibia       Nigeria  Tanzania  \\\n",
       "2017-04-29  0.000000e+00  0.000000e+00  0.000000  0.000000e+00  0.000000   \n",
       "2017-05-29  2.538573e-10 -1.699090e-08  1.966471 -8.031048e-07  0.693682   \n",
       "2017-06-28  2.538573e-10 -1.699090e-08  1.966471 -8.031048e-07  0.693682   \n",
       "2017-07-28  0.000000e+00  0.000000e+00  0.000000  0.000000e+00  0.000000   \n",
       "2017-08-27 -5.077147e-10  3.398180e-08 -3.932943  1.606210e-06 -1.387364   \n",
       "\n",
       "            West Africa Region        Zambia  \n",
       "2017-04-29        0.000000e+00  0.000000e+00  \n",
       "2017-05-29       -2.635184e-12 -4.303168e-10  \n",
       "2017-06-28       -2.635184e-12 -4.303168e-10  \n",
       "2017-07-28        0.000000e+00  0.000000e+00  \n",
       "2017-08-27        5.270367e-12  8.606337e-10  "
      ]
     },
     "execution_count": 6,
     "metadata": {},
     "output_type": "execute_result"
    }
   ],
   "source": [
    "smooth = prep.reindex(frequency).interpolate(method='quadratic')\n",
    "smooth.head()"
   ]
  },
  {
   "cell_type": "markdown",
   "metadata": {},
   "source": [
    "## Plot"
   ]
  },
  {
   "cell_type": "code",
   "execution_count": 7,
   "metadata": {},
   "outputs": [],
   "source": [
    "color = ['#00667d', '#26cad3', '#5ac4ff', '#e95a47', '#bd1958', '#62125c', '#b79b00', '#f0dc5b', '#008869', '#6F9394', '#00cda4', '#d8bdea']"
   ]
  },
  {
   "cell_type": "markdown",
   "metadata": {},
   "source": [
    "What's going on here?\n",
    "- This is a stackplot in `matplotlib`, which == a stacked area chart\n",
    "- The parameter `baseline = 'sym'` makes the data accurately stack on both sides of the x axis rather than start at zeroes\n",
    "- Using the smooth data rather than the raw data gives this an aethetically pleasing non-spikiness"
   ]
  },
  {
   "cell_type": "code",
   "execution_count": 8,
   "metadata": {},
   "outputs": [
    {
     "data": {
      "image/png": "[encoded data removed]",
      "text/plain": [
       "<Figure size 1080x720 with 1 Axes>"
      ]
     },
     "metadata": {
      "needs_background": "light"
     },
     "output_type": "display_data"
    }
   ],
   "source": [
    "fig, ax = plt.subplots(figsize=(15,10))\n",
    "ax.stackplot(smooth.index, smooth.T, baseline='sym',labels=smooth.columns, colors=color)\n",
    "ax.spines['left'].set_color('#ffffff')\n",
    "ax.spines['right'].set_color('#ffffff')\n",
    "ax.spines['top'].set_color('#ffffff')\n",
    "ax.legend(loc=(1.05,0.2)).get_frame().set_linewidth(0.0)\n",
    "plt.savefig(\"prep-stream-edit.pdf\", transparent=True);"
   ]
  },
  {
   "cell_type": "code",
   "execution_count": null,
   "metadata": {},
   "outputs": [],
   "source": []
  }
 ],
 "metadata": {
  "kernelspec": {
   "display_name": "Python 3.8.8 ('base')",
   "language": "python",
   "name": "python3"
  },
  "language_info": {
   "codemirror_mode": {
    "name": "ipython",
    "version": 3
   },
   "file_extension": ".py",
   "mimetype": "text/x-python",
   "name": "python",
   "nbconvert_exporter": "python",
   "pygments_lexer": "ipython3",
   "version": "3.8.8"
  },
  "orig_nbformat": 4,
  "vscode": {
   "interpreter": {
    "hash": "13ba1425430e2ae36df426edf395eb56043785418cc093e1b031d89d7d4576b9"
   }
  }
 },
 "nbformat": 4,
 "nbformat_minor": 2
}
